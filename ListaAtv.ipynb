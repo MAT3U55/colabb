{
  "nbformat": 4,
  "nbformat_minor": 0,
  "metadata": {
    "colab": {
      "provenance": [],
      "authorship_tag": "ABX9TyNAYQA72YL1uhOBE3D5FpeW",
      "include_colab_link": true
    },
    "kernelspec": {
      "name": "python3",
      "display_name": "Python 3"
    },
    "language_info": {
      "name": "python"
    }
  },
  "cells": [
    {
      "cell_type": "markdown",
      "metadata": {
        "id": "view-in-github",
        "colab_type": "text"
      },
      "source": [
        "<a href=\"https://colab.research.google.com/github/MAT3U55/colabb/blob/main/ListaAtv.ipynb\" target=\"_parent\"><img src=\"https://colab.research.google.com/assets/colab-badge.svg\" alt=\"Open In Colab\"/></a>"
      ]
    },
    {
      "cell_type": "code",
      "execution_count": 7,
      "metadata": {
        "colab": {
          "base_uri": "https://localhost:8080/"
        },
        "id": "0J2hrFVCTw8P",
        "outputId": "ced0e790-2082-43dd-bddd-5db06b3575d3"
      },
      "outputs": [
        {
          "output_type": "stream",
          "name": "stdout",
          "text": [
            "[[1 2]\n",
            " [3 4]]\n"
          ]
        }
      ],
      "source": [
        "import numpy as np\n",
        "matriz = np.array([[1, 2], [3, 4]])\n",
        "print(matriz)"
      ]
    },
    {
      "cell_type": "code",
      "source": [
        "matriz = []\n",
        "\n",
        "for i in range(3):\n",
        "    linha = []\n",
        "    for j in range(3):\n",
        "        linha.append(int(input(f\"Elemento [{i+1}, {j+1}]: \")))\n",
        "    matriz.append(linha)\n",
        "\n",
        "for linha in matriz:\n",
        "    print(linha)\n"
      ],
      "metadata": {
        "colab": {
          "base_uri": "https://localhost:8080/"
        },
        "id": "5swZIvkNUVIv",
        "outputId": "f15babe8-1a27-4e3c-a723-e1f8e1ec77d6"
      },
      "execution_count": 8,
      "outputs": [
        {
          "output_type": "stream",
          "name": "stdout",
          "text": [
            "Elemento [1, 1]: 1\n",
            "Elemento [1, 2]: 2\n",
            "Elemento [1, 3]: 3\n",
            "Elemento [2, 1]: 4\n",
            "Elemento [2, 2]: 5\n",
            "Elemento [2, 3]: 6\n",
            "Elemento [3, 1]: 7\n",
            "Elemento [3, 2]: 8\n",
            "Elemento [3, 3]: 9\n",
            "[1, 2, 3]\n",
            "[4, 5, 6]\n",
            "[7, 8, 9]\n"
          ]
        }
      ]
    },
    {
      "cell_type": "code",
      "source": [
        "matrizy = []\n",
        "print(\"Digite os elementos da matriz y:\")\n",
        "for i in range(2):\n",
        "    linha = []\n",
        "    for j in range(2):\n",
        "        linha.append(int(input(f\"Elemento [{i+1}, {j+1}]: \")))\n",
        "    matrizy.append(linha)\n",
        "\n",
        "print(\"\\nMatriz y:\")\n",
        "for linha in matrizy:\n",
        "    print(linha)\n",
        "\n",
        "print('\\n\\n')\n",
        "\n",
        "matrizx = []\n",
        "print(\"Digite os elementos da matriz x:\")\n",
        "for a in range(2):\n",
        "    matrizb = []\n",
        "    for b in range(2):\n",
        "        matrizb.append(int(input(f\"Elemento [{a+1}, {b+1}]: \")))\n",
        "    matrizx.append(matrizb)\n",
        "\n",
        "print(\"\\nMatriz x:\")\n",
        "for matrizb in matrizx:\n",
        "    print(matrizb)\n",
        "\n",
        "matriz_soma = []\n",
        "for i in range(2):\n",
        "    linha_soma = []\n",
        "    for j in range(2):\n",
        "        linha_soma.append(matrizy[i][j] + matrizx[i][j])\n",
        "    matriz_soma.append(linha_soma)\n",
        "\n",
        "print(\"\\nMatriz Soma:\")\n",
        "for linha in matriz_soma:\n",
        "    print(linha)\n",
        "\n"
      ],
      "metadata": {
        "colab": {
          "base_uri": "https://localhost:8080/"
        },
        "id": "UeprqMqUVQ11",
        "outputId": "21293603-0fdf-4124-f459-b59b97d09359"
      },
      "execution_count": 18,
      "outputs": [
        {
          "output_type": "stream",
          "name": "stdout",
          "text": [
            "Digite os elementos da matriz y:\n",
            "Elemento [1, 1]: 1\n",
            "Elemento [1, 2]: 2\n",
            "Elemento [2, 1]: 3\n",
            "Elemento [2, 2]: 4\n",
            "\n",
            "Matriz y:\n",
            "[1, 2]\n",
            "[3, 4]\n",
            "\n",
            "\n",
            "\n",
            "Digite os elementos da matriz x:\n",
            "Elemento [1, 1]: 5\n",
            "Elemento [1, 2]: 6\n",
            "Elemento [2, 1]: 7\n",
            "Elemento [2, 2]: 8\n",
            "\n",
            "Matriz x:\n",
            "[5, 6]\n",
            "[7, 8]\n",
            "\n",
            "Matriz Soma:\n",
            "[6, 8]\n",
            "[10, 12]\n"
          ]
        }
      ]
    },
    {
      "cell_type": "code",
      "source": [
        "def numero():\n",
        "    elemento = int(input('Insira um número: '))\n",
        "    dobro = elemento * 2\n",
        "    return dobro\n",
        "\n",
        "dobro_do_numero = numero()\n",
        "print(f'O dobro do número é: {dobro_do_numero}')\n"
      ],
      "metadata": {
        "colab": {
          "base_uri": "https://localhost:8080/"
        },
        "id": "P27SupDKV3iC",
        "outputId": "3e87864f-bec0-41b5-c69b-006bbadc2eac"
      },
      "execution_count": 19,
      "outputs": [
        {
          "output_type": "stream",
          "name": "stdout",
          "text": [
            "Insira um número: 10231284127841729312\n",
            "O dobro do número é: 20462568255683458624\n"
          ]
        }
      ]
    },
    {
      "cell_type": "code",
      "source": [
        "def parouimp():\n",
        "  elemento = int(input('Insira um número: '))\n",
        "  if elemento % 2 == 0:\n",
        "    print('Ele é par')\n",
        "  else:\n",
        "    print('Ele é impar')\n",
        "\n",
        "parouimp()\n"
      ],
      "metadata": {
        "colab": {
          "base_uri": "https://localhost:8080/"
        },
        "id": "ONWeIiZ6ZH9j",
        "outputId": "756545a6-8737-4cab-ddb2-9481e4eaca72"
      },
      "execution_count": 29,
      "outputs": [
        {
          "output_type": "stream",
          "name": "stdout",
          "text": [
            "Insira um número: 343\n",
            "Ele é impar\n"
          ]
        }
      ]
    },
    {
      "cell_type": "code",
      "source": [
        "def soma_impares(lista):\n",
        "  soma = 0\n",
        "  for numero in lista:\n",
        "      if numero % 2 != 0:\n",
        "          soma += numero\n",
        "  return soma\n",
        "\n",
        "lista_numeros = [1, 2, 3, 4, 5, 6, 7, 8, 9]\n",
        "resultado = soma_impares(lista_numeros)\n",
        "print(f'A soma dos números ímpares da lista é: {resultado}')\n"
      ],
      "metadata": {
        "colab": {
          "base_uri": "https://localhost:8080/"
        },
        "id": "S-1tDgPNZyHm",
        "outputId": "af67d521-d5a5-41c3-ef97-e1d70c418431"
      },
      "execution_count": 30,
      "outputs": [
        {
          "output_type": "stream",
          "name": "stdout",
          "text": [
            "A soma dos números ímpares da lista é: 25\n"
          ]
        }
      ]
    },
    {
      "cell_type": "code",
      "source": [
        "import math\n",
        "\n",
        "numero = float(input(\"Insira um número: \"))\n",
        "\n",
        "raiz_quadrada = math.sqrt(numero)\n",
        "\n",
        "print(f'A raiz quadrada de {numero} é {raiz_quadrada}')\n"
      ],
      "metadata": {
        "colab": {
          "base_uri": "https://localhost:8080/"
        },
        "id": "7t4J0iDscFl8",
        "outputId": "90e74f5c-1ae1-4def-923a-5b076d68d271"
      },
      "execution_count": 32,
      "outputs": [
        {
          "output_type": "stream",
          "name": "stdout",
          "text": [
            "Insira um número: 81\n",
            "A raiz quadrada de 81.0 é 9.0\n"
          ]
        }
      ]
    },
    {
      "cell_type": "code",
      "source": [
        "import datetime\n",
        "\n",
        "data1 = input(\"Digite uma data no formato dd/mm/aaaa: \")\n",
        "\n",
        "data = datetime.datetime.strptime(data1, \"%d/%m/%Y\")\n",
        "\n",
        "dia = data.strftime(\"%A\")\n",
        "\n",
        "print(f'O dia da semana correspondente é: {dia}')\n"
      ],
      "metadata": {
        "colab": {
          "base_uri": "https://localhost:8080/"
        },
        "id": "j2UMSfMxdm44",
        "outputId": "9fe2c323-ee6f-414a-dae8-5b4c6a9c94cf"
      },
      "execution_count": 37,
      "outputs": [
        {
          "output_type": "stream",
          "name": "stdout",
          "text": [
            "Digite uma data no formato dd/mm/aaaa: 16/07/2006\n",
            "O dia da semana correspondente é: Sunday\n"
          ]
        }
      ]
    },
    {
      "cell_type": "code",
      "source": [
        "import random\n",
        "\n",
        "numero = int(input(\"Digite um número: \"))\n",
        "\n",
        "numero_aleatorio = random.randint(1, numero)\n",
        "\n",
        "print(f'O valor aleatório entre 1 e {numero} é: {numero_aleatorio}')\n"
      ],
      "metadata": {
        "colab": {
          "base_uri": "https://localhost:8080/"
        },
        "id": "Whe2V0VWfWBV",
        "outputId": "5a5ad9d8-beb7-4e92-b011-3ea29856c089"
      },
      "execution_count": 38,
      "outputs": [
        {
          "output_type": "stream",
          "name": "stdout",
          "text": [
            "Digite um número: 100000000000000000000000000000000000000000000000000000000\n",
            "O valor aleatório entre 1 e 100000000000000000000000000000000000000000000000000000000 é: 42487308387464262063787534176280944585387876748188068337\n"
          ]
        }
      ]
    },
    {
      "cell_type": "code",
      "source": [
        "import random\n",
        "import time\n",
        "\n",
        "numero_aleatorio = random.randint(1, 6)\n",
        "time.sleep(2)\n",
        "\n",
        "print(f'O dado mostrou: {numero_aleatorio}')\n"
      ],
      "metadata": {
        "colab": {
          "base_uri": "https://localhost:8080/"
        },
        "id": "EmSuHuVI2NUd",
        "outputId": "8639d9c8-388e-4dd3-dfc9-e747871b0dac"
      },
      "execution_count": 42,
      "outputs": [
        {
          "output_type": "stream",
          "name": "stdout",
          "text": [
            "O dado mostrou: 5\n"
          ]
        }
      ]
    },
    {
      "cell_type": "code",
      "source": [
        "with open(\"texto.txt\", \"w\", encoding=\"utf-8\") as arquivo:\n",
        "    arquivo.write(\"Python é incrível!\")\n",
        "\n",
        "with open(\"texto.txt\", \"r\", encoding=\"utf-8\") as arquivo:\n",
        "    conteudo = arquivo.read()\n",
        "\n",
        "print(conteudo)\n"
      ],
      "metadata": {
        "colab": {
          "base_uri": "https://localhost:8080/"
        },
        "id": "BLEfXw6H2n9f",
        "outputId": "f956410c-050b-4b04-97cf-0f15fd1aa961"
      },
      "execution_count": 45,
      "outputs": [
        {
          "output_type": "stream",
          "name": "stdout",
          "text": [
            "Python é incrível!\n"
          ]
        }
      ]
    },
    {
      "cell_type": "code",
      "source": [
        "nome = input(\"Digite o nome: \")\n",
        "telefone = input(\"Digite o telefone: \")\n",
        "\n",
        "with open(\"contatos.txt\", \"a\", encoding=\"utf-8\") as arquivo:\n",
        "    arquivo.write(f\"Nome: {nome}, Telefone: {telefone}\\n\")\n",
        "\n",
        "print(\"Contato salvo com sucesso!\")\n"
      ],
      "metadata": {
        "colab": {
          "base_uri": "https://localhost:8080/"
        },
        "id": "16V_tb-D4IwA",
        "outputId": "dded22d0-06fb-4310-d1db-d096ede6c526"
      },
      "execution_count": 46,
      "outputs": [
        {
          "output_type": "stream",
          "name": "stdout",
          "text": [
            "Digite o nome: mateus moreira\n",
            "Digite o telefone: (11) 99814-5664\n",
            "Contato salvo com sucesso!\n"
          ]
        }
      ]
    },
    {
      "cell_type": "code",
      "source": [
        "numero = input(\"Digite um número para dividir 100: \")\n",
        "\n",
        "try:\n",
        "    numero = float(numero)\n",
        "    resultado = 100 / numero\n",
        "    print(f\"O resultado de 100 dividido por {numero} é: {resultado}\")\n",
        "except ZeroDivisionError:\n",
        "    print(\"Erro: Não é possível dividir por zero.\")\n",
        "except ValueError:\n",
        "    print(\"Erro: Por favor, digite um número válido.\")\n"
      ],
      "metadata": {
        "colab": {
          "base_uri": "https://localhost:8080/"
        },
        "id": "k0Z2FNWn6JYz",
        "outputId": "90a4ac9a-9234-412c-d89c-282e74278695"
      },
      "execution_count": 57,
      "outputs": [
        {
          "output_type": "stream",
          "name": "stdout",
          "text": [
            "Digite um número para dividir 100: 0\n",
            "Erro: Não é possível dividir por zero.\n"
          ]
        }
      ]
    },
    {
      "cell_type": "code",
      "source": [
        "numero = input(\"Digite um número: \")\n",
        "while True:\n",
        "    try:\n",
        "        numero = float(numero)\n",
        "        print(f\"Você digitou o número: {numero}\")\n",
        "        break\n",
        "    except:\n",
        "        print(\"Erro: por favor, digite um número válido.\")\n",
        "        numero = input(\"Tente novamente, digite um número: \")\n"
      ],
      "metadata": {
        "colab": {
          "base_uri": "https://localhost:8080/"
        },
        "id": "m19AN-so7av2",
        "outputId": "1f88e185-6a83-4d4a-d0e4-cc8cd80a6868"
      },
      "execution_count": 63,
      "outputs": [
        {
          "output_type": "stream",
          "name": "stdout",
          "text": [
            "Digite um número: a\n",
            "Erro: por favor, digite um número válido.\n",
            "Tente novamente, digite um número: 10\n",
            "Você digitou o número: 10.0\n"
          ]
        }
      ]
    },
    {
      "cell_type": "code",
      "source": [
        "numero = input(\"Digite um número inteiro: \")\n",
        "\n",
        "try:\n",
        "    numero = int(numero)\n",
        "    quadrado = numero ** 2\n",
        "    print(f\"O quadrado de {numero} é: {quadrado}\")\n",
        "except ValueError:\n",
        "    print(\"Erro: Entrada inválida! Por favor, digite um número inteiro.\")\n"
      ],
      "metadata": {
        "id": "1R6ZSeqy-zEF"
      },
      "execution_count": null,
      "outputs": []
    }
  ]
}